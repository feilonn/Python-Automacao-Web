{
 "cells": [
  {
   "cell_type": "markdown",
   "source": [
    "# Automação Web e Busca de Informações com Python\n",
    "\n",
    "#### Desafio: \n",
    "\n",
    "Trabalhamos em uma importadora e o preço dos nossos produtos é vinculado a cotação de:\n",
    "- Dólar\n",
    "- Euro\n",
    "- Ouro\n",
    "\n",
    "Precisamos pegar na internet, de forma automática, a cotação desses 3 itens e saber quanto devemos cobrar pelos nossos produtos, considerando uma margem de contribuição que temos na nossa base de dados.\n",
    "\n",
    "Base de Dados: https://drive.google.com/drive/folders/1KmAdo593nD8J9QBaZxPOG1yxHZua4Rtv?usp=sharing\n",
    "\n",
    "Para isso, vamos criar uma automação web:\n",
    "\n",
    "- Usaremos o selenium\n",
    "- Importante: baixar o webdriver"
   ],
   "metadata": {}
  },
  {
   "cell_type": "code",
   "execution_count": 7,
   "source": [
    "from selenium import webdriver\r\n",
    "from selenium.webdriver.common.keys import Keys\r\n",
    "import pandas as pd\r\n",
    "\r\n",
    "#01 Obtendo cotação do Dolar\r\n",
    "navegador = webdriver.Chrome(\"chromedriver.exe\") #Criando um navegador Chrome\r\n",
    "navegador.get(\"https://www.google.com/\")#Acessando site especificado\r\n",
    "\r\n",
    "#Buscando a barra de pesquisa do google pelo xpath\r\n",
    "navegador.find_element_by_xpath(\r\n",
    "    '/html/body/div[1]/div[3]/form/div[1]/div[1]/div[1]/div/div[2]/input').send_keys(\"Cotação do Dólar\")#digitando o termo\r\n",
    "navegador.find_element_by_xpath(\r\n",
    "    '/html/body/div[1]/div[3]/form/div[1]/div[1]/div[1]/div/div[2]/input').send_keys(Keys.ENTER)#Acessando a tecla Enter\r\n",
    "#Capturando a cotação do dolar pelo xpath e pegando o atributo data-value do HTML da página\r\n",
    "cotacao_dolar = navegador.find_element_by_xpath(\r\n",
    "    '//*[@id=\"knowledge-currency__updatable-data-column\"]/div[1]/div[2]/span[1]').get_attribute(\"data-value\")\r\n",
    "print(f'COTAÇÃO DO DOLAR: R${cotacao_dolar}')\r\n",
    "\r\n",
    "#02 Obtendo a cotação do Euro\r\n",
    "navegador.get(\"https://www.google.com/\")\r\n",
    "#Buscando a barra de pesquisa do google pelo xpath\r\n",
    "navegador.find_element_by_xpath(\r\n",
    "    '/html/body/div[1]/div[3]/form/div[1]/div[1]/div[1]/div/div[2]/input').send_keys(\"Cotação do Euro\")#digitando o termo\r\n",
    "navegador.find_element_by_xpath(\r\n",
    "    '/html/body/div[1]/div[3]/form/div[1]/div[1]/div[1]/div/div[2]/input').send_keys(Keys.ENTER)#Acessando a tecla Enter\r\n",
    "#Capturando a cotação do dolar pelo xpath e pegando o atributo data-value do HTML da página\r\n",
    "cotacao_euro = navegador.find_element_by_xpath(\r\n",
    "    '//*[@id=\"knowledge-currency__updatable-data-column\"]/div[1]/div[2]/span[1]').get_attribute(\"data-value\")\r\n",
    "print(f'COTAÇÃO DO EURO: R${cotacao_euro}')\r\n",
    "\r\n",
    "#03 Obtendo a cotação do Ouro\r\n",
    "#Entrando no site melhorcambio.com\r\n",
    "navegador.get(\"https://www.melhorcambio.com/ouro-hoje\")\r\n",
    "#Pegando a cotação do ouro pelo xpath e coletando a informação do atributo 'valur' do HTML\r\n",
    "cotacao_ouro = navegador.find_element_by_xpath('//*[@id=\"comercial\"]').get_attribute(\"value\")\r\n",
    "cotacao_ouro = cotacao_ouro.replace(',', '.')#Correção de padronização numérica\r\n",
    "print(f'COTAÇÃO DO OURO: R${cotacao_ouro}')\r\n",
    "\r\n",
    "#04 Acessando e lendo a base de dados\r\n",
    "tabela = pd.read_excel(\"Produtos.xlsx\")\r\n",
    "\r\n",
    "#05 Atualizando a cotação\r\n",
    "#O comando loc irá localizar a linha e a coluna passadas como parametro\r\n",
    "#O primeiro parametro é a linha, nesse caso irá pegar todas as linhas na qual\r\n",
    "#a coluna 'Moeda' tiver o valor da moeda pretendida\r\n",
    "tabela.loc[tabela[\"Moeda\"] == \"Dólar\", \"Cotação\"] = float(cotacao_dolar)#casting pois a informação pode vir como string do HTML\r\n",
    "tabela.loc[tabela[\"Moeda\"] == \"Euro\", \"Cotação\"] = float(cotacao_euro)#casting\r\n",
    "tabela.loc[tabela[\"Moeda\"] == \"Ouro\", \"Cotação\"] = float(cotacao_ouro)#casting\r\n",
    "\r\n",
    "#Atualizando preço de compra: Preço de Compra = Preço Original * Cotação\r\n",
    "tabela[\"Preço Base Reais\"] = tabela[\"Preço Base Original\"] * tabela[\"Cotação\"]\r\n",
    "\r\n",
    "#Atualizando o preço de venda: Preço de Venda = Preço de Compra * Margem\r\n",
    "tabela[\"Preço Final\"] = tabela[\"Preço Base Reais\"] * tabela[\"Margem\"]\r\n",
    "\r\n",
    "#06 Exportando relatório atualizado\r\n",
    "tabela.to_excel(\"Produtos novo.xlsx\", index=False) \r\n",
    "navegador.quit()#Fecha o browser\r\n",
    "#O primeiro parametro é o nome do arquivo, se for igual o original irá substituir\r\n",
    "#index = coluna criada pelo python para identificar as linhas da tabela\r\n",
    "##display(tabela)\r\n"
   ],
   "outputs": [
    {
     "output_type": "stream",
     "name": "stdout",
     "text": [
      "COTAÇÃO DO DOLAR: R$5.5184999999999995\n",
      "COTAÇÃO DO EURO: R$6.377553858000001\n",
      "COTAÇÃO DO OURO: R$311.45\n"
     ]
    }
   ],
   "metadata": {}
  },
  {
   "cell_type": "markdown",
   "source": [
    "### Agora vamos atualiza a nossa base de preços com as novas cotações"
   ],
   "metadata": {}
  },
  {
   "cell_type": "markdown",
   "source": [
    "- Importando a base de dados"
   ],
   "metadata": {}
  },
  {
   "cell_type": "code",
   "execution_count": null,
   "source": [],
   "outputs": [],
   "metadata": {
    "scrolled": true
   }
  },
  {
   "cell_type": "markdown",
   "source": [
    "- Atualizando os preços e o cálculo do Preço Final"
   ],
   "metadata": {}
  },
  {
   "cell_type": "code",
   "execution_count": null,
   "source": [],
   "outputs": [],
   "metadata": {}
  },
  {
   "cell_type": "markdown",
   "source": [
    "### Agora vamos exportar a nova base de preços atualizada"
   ],
   "metadata": {}
  },
  {
   "cell_type": "code",
   "execution_count": null,
   "source": [],
   "outputs": [],
   "metadata": {}
  }
 ],
 "metadata": {
  "kernelspec": {
   "name": "python3",
   "display_name": "Python 3.9.4 64-bit"
  },
  "language_info": {
   "codemirror_mode": {
    "name": "ipython",
    "version": 3
   },
   "file_extension": ".py",
   "mimetype": "text/x-python",
   "name": "python",
   "nbconvert_exporter": "python",
   "pygments_lexer": "ipython3",
   "version": "3.9.4"
  },
  "interpreter": {
   "hash": "dcfd1902832e621b9a412cd291ed7fd703a95378f8c420fbf93b87b15e15cd55"
  }
 },
 "nbformat": 4,
 "nbformat_minor": 4
}